{
 "cells": [
  {
   "cell_type": "markdown",
   "metadata": {
    "collapsed": true
   },
   "source": [
    "# Initialization for current mirror"
   ]
  },
  {
   "cell_type": "code",
   "execution_count": 1,
   "metadata": {
    "pycharm": {
     "name": "#%%\n"
    }
   },
   "outputs": [],
   "source": [
    "import scqubits as qubit\n",
    "import numpy as np"
   ]
  },
  {
   "cell_type": "code",
   "execution_count": 2,
   "metadata": {},
   "outputs": [],
   "source": [
    "N = 2  # number of big capacitors; changing to N=3 increases runtime but yields multiple inequivalent minima\n",
    "maximum_periodic_vector_length = 8\n",
    "ECB = 0.2\n",
    "ECJ = 5.0\n",
    "ECg = 10.0\n",
    "flux = 0.0\n",
    "EJ = 10.0\n",
    "EJlist = np.array([EJ for j in range(2*N)])\n",
    "nglist = np.array([0.0 for j in range(2*N-1)])\n",
    "num_exc = 2\n",
    "param_dict = {\"N\":N, \"ECB\":ECB, \"ECJ\":ECJ, \"ECg\":ECg, \"EJlist\":EJlist, \"nglist\":nglist, \"flux\":flux,\n",
    "              \"maximum_periodic_vector_length\":maximum_periodic_vector_length, \"num_exc\":num_exc, \n",
    "              \"truncated_dim\":6, \"quiet\":True}\n",
    "CMV = qubit.CurrentMirrorVCHOS(**param_dict)  # vanilla tight binding\n",
    "CMVS = qubit.CurrentMirrorVCHOSSqueezing(**param_dict)  # tight-binding using squeezing\n",
    "param_dict.pop(\"num_exc\")\n",
    "param_dict[\"global_exc\"] = 2\n",
    "CMVG = qubit.CurrentMirrorVCHOSGlobal(**param_dict)  # tight-binding using a global cutoff\n",
    "CMVGS = qubit.CurrentMirrorVCHOSGlobalSqueezing(**param_dict)  # tight-binding using squeezing and a global cutoff"
   ]
  },
  {
   "cell_type": "markdown",
   "metadata": {},
   "source": [
    "# Eigensystem"
   ]
  },
  {
   "cell_type": "code",
   "execution_count": 3,
   "metadata": {},
   "outputs": [],
   "source": [
    "evals, evecs = CMV.eigensys()\n",
    "evals_squeezing, evecs_squeezing = CMVS.eigensys()\n",
    "evals_global, evecs_global = CMVG.eigensys()\n",
    "evals_global_squeezing, evecs_global_squeezing = CMVGS.eigensys()"
   ]
  },
  {
   "cell_type": "code",
   "execution_count": 4,
   "metadata": {},
   "outputs": [
    {
     "data": {
      "text/plain": [
       "(array([12.7581796 , 16.34967861, 16.34967861, 19.84874759, 19.85836551,\n",
       "        19.93760869]),\n",
       " array([12.7581796 , 16.34967861, 16.34967861, 19.84874759, 19.85836551,\n",
       "        19.93760869]),\n",
       " array([12.7617841 , 16.40987813, 16.40987813, 19.93325639, 19.94382264,\n",
       "        20.01387534]),\n",
       " array([12.7617841 , 16.40987813, 16.40987813, 19.93325639, 19.94382264,\n",
       "        20.01387534]))"
      ]
     },
     "execution_count": 4,
     "metadata": {},
     "output_type": "execute_result"
    }
   ],
   "source": [
    "evals, evals_squeezing, evals_global, evals_global_squeezing"
   ]
  },
  {
   "cell_type": "markdown",
   "metadata": {},
   "source": [
    "# Harmonic length optimization"
   ]
  },
  {
   "cell_type": "code",
   "execution_count": 5,
   "metadata": {},
   "outputs": [],
   "source": [
    "CMV.harmonic_length_optimization = 1\n",
    "CMVS.harmonic_length_optimization = 1\n",
    "CMVG.harmonic_length_optimization = 1\n",
    "CMVGS.harmonic_length_optimization = 1"
   ]
  },
  {
   "cell_type": "code",
   "execution_count": 6,
   "metadata": {},
   "outputs": [],
   "source": [
    "evals, evecs = CMV.eigensys()\n",
    "evals_squeezing, evecs_squeezing = CMVS.eigensys()\n",
    "evals_global, evecs_global = CMVG.eigensys()\n",
    "evals_global_squeezing, evecs_global_squeezing = CMVGS.eigensys()"
   ]
  },
  {
   "cell_type": "code",
   "execution_count": 7,
   "metadata": {},
   "outputs": [
    {
     "data": {
      "text/plain": [
       "(array([12.75664088, 16.31747114, 16.31747114, 19.7692745 , 19.77712469,\n",
       "        19.87182403]),\n",
       " array([12.75664088, 16.31747113, 16.31747114, 19.7692745 , 19.77712469,\n",
       "        19.87182402]),\n",
       " array([12.75939247, 16.32222425, 16.32222425, 19.78559639, 19.78963232,\n",
       "        19.88505341]),\n",
       " array([12.75939247, 16.32222425, 16.32222425, 19.78559639, 19.78963231,\n",
       "        19.88505341]))"
      ]
     },
     "execution_count": 7,
     "metadata": {},
     "output_type": "execute_result"
    }
   ],
   "source": [
    "evals, evals_squeezing, evals_global, evals_global_squeezing"
   ]
  },
  {
   "cell_type": "code",
   "execution_count": 8,
   "metadata": {},
   "outputs": [
    {
     "data": {
      "text/plain": [
       "(array([[1.04723435, 1.04723435, 1.04694553]]),\n",
       " array([[1.04723434, 1.04723438, 1.04694553]]))"
      ]
     },
     "execution_count": 8,
     "metadata": {},
     "output_type": "execute_result"
    }
   ],
   "source": [
    "CMV.optimized_lengths, CMVS.optimized_lengths"
   ]
  },
  {
   "cell_type": "markdown",
   "metadata": {},
   "source": [
    "# Optimize harmonic lengths in inequivalent minima (squeezing only)"
   ]
  },
  {
   "cell_type": "code",
   "execution_count": 9,
   "metadata": {},
   "outputs": [],
   "source": [
    "CMVS.optimize_all_minima = 1\n",
    "CMVGS.optimize_all_minima = 1"
   ]
  },
  {
   "cell_type": "code",
   "execution_count": 10,
   "metadata": {},
   "outputs": [],
   "source": [
    "evals_squeezing, evecs_squeezing = CMVS.eigensys()\n",
    "evals_global_squeezing, evecs_global_squeezing = CMVGS.eigensys()"
   ]
  },
  {
   "cell_type": "code",
   "execution_count": 11,
   "metadata": {},
   "outputs": [
    {
     "data": {
      "text/plain": [
       "(array([12.75664088, 16.31747113, 16.31747114, 19.7692745 , 19.77712469,\n",
       "        19.87182402]),\n",
       " array([12.75939247, 16.32222425, 16.32222425, 19.78559639, 19.78963231,\n",
       "        19.88505341]))"
      ]
     },
     "execution_count": 11,
     "metadata": {},
     "output_type": "execute_result"
    }
   ],
   "source": [
    "evals_squeezing, evals_global_squeezing"
   ]
  },
  {
   "cell_type": "code",
   "execution_count": 12,
   "metadata": {},
   "outputs": [
    {
     "data": {
      "text/plain": [
       "array([[1.04723434, 1.04723438, 1.04694553]])"
      ]
     },
     "execution_count": 12,
     "metadata": {},
     "output_type": "execute_result"
    }
   ],
   "source": [
    "CMVS.optimized_lengths"
   ]
  },
  {
   "cell_type": "code",
   "execution_count": null,
   "metadata": {},
   "outputs": [],
   "source": []
  }
 ],
 "metadata": {
  "kernelspec": {
   "display_name": "Python 3",
   "language": "python",
   "name": "python3"
  },
  "language_info": {
   "codemirror_mode": {
    "name": "ipython",
    "version": 3
   },
   "file_extension": ".py",
   "mimetype": "text/x-python",
   "name": "python",
   "nbconvert_exporter": "python",
   "pygments_lexer": "ipython3",
   "version": "3.7.7"
  }
 },
 "nbformat": 4,
 "nbformat_minor": 1
}
